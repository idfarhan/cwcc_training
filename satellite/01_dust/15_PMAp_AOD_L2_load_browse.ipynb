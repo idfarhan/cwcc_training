{
 "cells": [
  {
   "cell_type": "markdown",
   "metadata": {},
   "source": [
    "<img src='../img/EU-Copernicus-EUM_3Logos.png' alt='EU Copernicus Eumetsat logo' align='right' width='60%'></img>\n",
    "\n",
    "<br>"
   ]
  },
  {
   "cell_type": "markdown",
   "metadata": {},
   "source": [
    "# 1.5 Polar Multi-Sensor Aerosol Optical Properties (PMAp) Product - Aerosol Optical Depth - Level 2"
   ]
  },
  {
   "cell_type": "markdown",
   "metadata": {},
   "source": [
    "### About"
   ]
  },
  {
   "cell_type": "markdown",
   "metadata": {},
   "source": [
    "The following module shows you the structure of `PMAp Aerosol Optical Depth Level 2` data and what information of the data files can be used in order to load, browse and visualize Aerosol Optical Depth at 550 nm.\n",
    "\n",
    "The polar multi-sensor aerosol optical properties product (PMAp) provides information on aerosol optical depth (AOD) at 550 nm and aerosol type (fine mode, coarse mode (dust) and volcanic ash) over ocean and land surfaces. The product is generated based on the Meteosat Second Generation instrument `GOME-2` with support of information from the instruments `AVHRR` and `IASI`.\n",
    "\n",
    "Find more information about the product at [EUMETSAT's Product Navigator](https://navigator.eumetsat.int/product/EO:EUM:DAT:METOP:PMAP) and in this [factsheet](https://user.eumetsat.int/s3/eup-strapi-media/Polar_Multi_Sensor_Aerosol_Product_Factsheet_aa3ee5b08f.pdf)."
   ]
  },
  {
   "cell_type": "markdown",
   "metadata": {},
   "source": [
    "### Basic Facts"
   ]
  },
  {
   "cell_type": "markdown",
   "metadata": {},
   "source": [
    "> **Spatial resolution**: `Metop-A: 5km x 40 km`, `Metop-B: 10km x 40 km` <br>\n",
    "> **Spatial coverage**: `Global` <br>\n",
    "> **Data availability**: `since February 2014`\n"
   ]
  },
  {
   "cell_type": "markdown",
   "metadata": {},
   "source": [
    "### How to access the data"
   ]
  },
  {
   "cell_type": "markdown",
   "metadata": {},
   "source": [
    "[PMAp data](https://navigator.eumetsat.int/product/EO:EUM:DAT:METOP:PMAP) can be ordered via the [EUMETSAT Data Centre](https://eoportal.eumetsat.int/userMgmt/protected/dataCentre.faces?acronym=GOMPMA02&id=EO:EUM:DAT:METOP:PMAP). In order to access the EUMETSAT Data Centre, you require an account for the [EUMETSAT Earth Observation Portal](https://eoportal.eumetsat.int/) If you do not have an account for the EUMETSAT EO Portal, you can create an account [here](https://eoportal.eumetsat.int/userMgmt/register.faces).  \n"
   ]
  },
  {
   "cell_type": "markdown",
   "metadata": {},
   "source": [
    "### Module outline\n",
    "- [1 - Load and browse PMAp Aerosol Optical Depth Level 2 data files](#pmap_load)\n",
    "- [2 - Load multiple PMAp Level 2 data files as xarray.DataArray object](#multiple_files)\n",
    "- [3 - Visualize PMAp Aerosol Optical Depth Level 2 data](#visualize)"
   ]
  },
  {
   "cell_type": "markdown",
   "metadata": {},
   "source": [
    "<hr>"
   ]
  },
  {
   "cell_type": "markdown",
   "metadata": {},
   "source": [
    "##### Load required libraries"
   ]
  },
  {
   "cell_type": "code",
   "execution_count": null,
   "metadata": {},
   "outputs": [],
   "source": [
    "import sys\n",
    "!{sys.executable} -m pip install cartopy netCDF4 h5netcdf==1.3.0 satpy==0.51.0 pyhdf h5py python-geotiepoints"
   ]
  },
  {
   "cell_type": "code",
   "execution_count": 1,
   "metadata": {},
   "outputs": [],
   "source": [
    "import xarray as xr\n",
    "from netCDF4 import Dataset\n",
    "\n",
    "import os\n",
    "os.environ['PROJ_LIB'] = '/opt/conda/share/proj'\n",
    "\n",
    "import matplotlib.pyplot as plt\n",
    "import matplotlib.colors\n",
    "from matplotlib.axes import Axes\n",
    "\n",
    "import cartopy.crs as ccrs\n",
    "from cartopy.mpl.gridliner import LONGITUDE_FORMATTER, LATITUDE_FORMATTER\n",
    "from cartopy.mpl.geoaxes import GeoAxes\n",
    "GeoAxes._pcolormesh_patched = Axes.pcolormesh\n",
    "\n",
    "import warnings\n",
    "warnings.filterwarnings('ignore')\n",
    "warnings.simplefilter(action = \"ignore\", category = RuntimeWarning)"
   ]
  },
  {
   "cell_type": "markdown",
   "metadata": {},
   "source": [
    "##### Load helper functions"
   ]
  },
  {
   "cell_type": "code",
   "execution_count": 2,
   "metadata": {},
   "outputs": [],
   "source": [
    "if os.path.exists(\"functions.ipynb\"):\n",
    "    %run functions.ipynb\n",
    "elif os.path.exists(\"../functions.ipynb\"):\n",
    "    %run ../functions.ipynb\n",
    "else:\n",
    "    print(\"Helper functions notebook not found in any specified path. Downloading from Gitlab.\")    \n",
    "    !wget https://gitlab.eumetsat.int/eumetlab/atmosphere/atmosphere/-/raw/master/functions.ipynb\n",
    "    %run functions.ipynb"
   ]
  },
  {
   "cell_type": "code",
   "execution_count": 3,
   "metadata": {},
   "outputs": [],
   "source": [
    "if os.path.exists(\"bucket_functions.ipynb\"):\n",
    "    %run bucket_functions.ipynb\n",
    "elif os.path.exists(\"../bucket_functions.ipynb\"):\n",
    "    %run ../bucket_functions.ipynb\n",
    "else:\n",
    "    print(\"Helper functions notebook not found in any specified path. Downloading from Gitlab.\")    \n",
    "    #!wget https://gitlab.eumetsat.int/eumetlab/atmosphere/atmosphere/-/raw/master/bucket_functions.ipynb\n",
    "    %run bucket_functions.ipynb"
   ]
  },
  {
   "cell_type": "code",
   "execution_count": 4,
   "metadata": {},
   "outputs": [
    {
     "name": "stdout",
     "output_type": "stream",
     "text": [
      "Status ok\n",
      "\n"
     ]
    },
    {
     "data": {
      "text/plain": [
       "['eodata',\n",
       " 'eodata/fci',\n",
       " 'eodata/gome2',\n",
       " 'eodata/gome2/aai',\n",
       " 'eodata/gome2/hcho',\n",
       " 'eodata/gome2/hcho/daily',\n",
       " 'eodata/gome2/no2',\n",
       " 'eodata/gome2/no2/daily',\n",
       " 'eodata/iasi',\n",
       " 'eodata/iasi/co',\n",
       " 'eodata/iasi/nh3',\n",
       " 'eodata/meteosat',\n",
       " 'eodata/modis',\n",
       " 'eodata/modis/2020',\n",
       " 'eodata/modis/2024',\n",
       " 'eodata/monarch',\n",
       " 'eodata/pmap',\n",
       " 'eodata/s3',\n",
       " 'eodata/s3/aod',\n",
       " 'eodata/s3/frp',\n",
       " 'eodata/s5p',\n",
       " 'eodata/s5p/aer_ai',\n",
       " 'eodata/s5p/co']"
      ]
     },
     "execution_count": 4,
     "metadata": {},
     "output_type": "execute_result"
    }
   ],
   "source": [
    "base_url = 'https://s3.waw3-2.cloudferro.com/swift/v1/wmo/'\n",
    "all_paths_list = list_data_on_bucket(base_url)\n",
    "\n",
    "all_directories_list = [os.path.dirname(path) for path in all_paths_list if path.count('/') <= 4]\n",
    "# Take unique directories\n",
    "all_directories_list = list(np.unique(all_directories_list))\n",
    "all_directories_list"
   ]
  },
  {
   "cell_type": "markdown",
   "metadata": {},
   "source": [
    "#### Define geographical extent"
   ]
  },
  {
   "cell_type": "code",
   "execution_count": 5,
   "metadata": {},
   "outputs": [],
   "source": [
    "latmin = 0\n",
    "latmax = 40\n",
    "lonmin = -50\n",
    "lonmax = 20"
   ]
  },
  {
   "cell_type": "markdown",
   "metadata": {},
   "source": [
    "<hr>"
   ]
  },
  {
   "cell_type": "markdown",
   "metadata": {},
   "source": [
    "## <a id='pmap_load'></a>1. Load and browe PMAp Aerosol Optical Depth Level 2 data"
   ]
  },
  {
   "cell_type": "markdown",
   "metadata": {},
   "source": [
    "PMAp Level 2 data is disseminated in the `NetCDF` format. You can use the [netCDF4](https://unidata.github.io/netcdf4-python/) Python library to access and manipulate the data."
   ]
  },
  {
   "cell_type": "markdown",
   "metadata": {},
   "source": [
    "### Structure of PMAp Aerosol Optical Depth Level 2 data files"
   ]
  },
  {
   "cell_type": "markdown",
   "metadata": {},
   "source": [
    "The PMAp data files are structured in 15 groups:\n",
    "* `conventions`\n",
    "* `Data`\n",
    "* `disposition_mode`\n",
    "* `keywords`\n",
    "* `metadata_conventions`\n",
    "* `orbit_end`\n",
    "* `orbit_start`\n",
    "* `organization`\n",
    "* `product_level`\n",
    "* `product_name`\n",
    "* `sensing_end_time_utc`\n",
    "* `sensing_start_time_utc`\n",
    "* `spacecraft`\n",
    "* `Status`\n",
    "* `summary`\n",
    "\n",
    "Most groups provide metadata information. The group of interest that contains the data itself is `Data/MeasurementData`, which has the sub-groups `GeoData` and `ObservationData`:\n",
    "* `MeasurementData`\n",
    "  * `GeoData`\n",
    "    * **aerosol_center_latitude**\n",
    "    * **aerosol_center_longitude**\n",
    "    * aerosol_corner_latitude\n",
    "    * aerosol_corner_longitude\n",
    "    * aerosol_sensor_readout_start_time\n",
    "    * cloud_center_latitude\n",
    "    * cloud_center_longitude\n",
    "    * cloud_corner_latitude\n",
    "    * cloud_corner_longitude\n",
    "    * day\n",
    "    * hour\n",
    "    * minute\n",
    "    * month\n",
    "    * year\n",
    "    * ...\n",
    "  * `ObservationData`\n",
    "    * `Aerosol`\n",
    "      * **aerosol_class**\n",
    "      * **aerosol_optical_depths**\n",
    "      * aerosol_retrievals_flag\n",
    "      * `Auxiliary`\n",
    "    * `Cloud`\n",
    "      * `Auxiliary`\n",
    "      * cloud_optical_depth\n",
    "      * cloud_retrieval_flags\n",
    "      * cloud_top_temperature\n",
    "    * `QualityInformation`\n",
    "      * `AVHRR`\n",
    "      * `ECMWF`\n",
    "      * ...\n"
   ]
  },
  {
   "cell_type": "markdown",
   "metadata": {},
   "source": [
    "Thus, the aerosol data information can be found under the group `ObservationData/Aerosol` and the corresponding geo information under the group `GeoData/`."
   ]
  },
  {
   "cell_type": "markdown",
   "metadata": {},
   "source": [
    "### Load a PMAp Level 2 data file with the `netCDF4` library"
   ]
  },
  {
   "cell_type": "markdown",
   "metadata": {},
   "source": [
    "With the `Dataset()` function of the `netCDF4` library, you can load a single file with the NetCDF format. PMAp data can be found in the folder `../../eodata/1_satellite/pmap/06/`.\n",
    "\n",
    "The resulting object is a `netCDF4.Dataset` object, which acts like a Python dictionary. Thus, with the `keys()` function you can list the different groups the file contains."
   ]
  },
  {
   "cell_type": "code",
   "execution_count": 10,
   "metadata": {},
   "outputs": [
    {
     "name": "stdout",
     "output_type": "stream",
     "text": [
      "File opened: https://s3.waw3-2.cloudferro.com/swift/v1/wmo/eodata/pmap/M02-GOME-GOMPMA02-NA-2.1-20200615062056.000000000Z-20200615080337-4879430.nc\n"
     ]
    }
   ],
   "source": [
    "data_path = base_url + 'eodata/pmap/M02-GOME-GOMPMA02-NA-2.1-20200615062056.000000000Z-20200615080337-4879430.nc'\n",
    "response = requests.get(data_path, stream=True)\n",
    "if response.status_code == 200:\n",
    "    # Convert the streamed content into a file-like object\n",
    "    file_obj = io.BytesIO(response.content)\n",
    "    # Write to a temporary file and open it using the netcdf4 engine\n",
    "    with tempfile.NamedTemporaryFile(delete=False, suffix='.nc') as tmp_file:\n",
    "        tmp_file.write(file_obj.getbuffer())\n",
    "        tmp_file.flush()\n",
    "\n",
    "    file = Dataset(tmp_file.name)\n",
    "    os.remove(tmp_file.name)\n",
    "    print(f\"File opened: {data_path}\")\n",
    "else:\n",
    "    print(f\"Failed to fetch file: {response.status_code}\")\n",
    "    "
   ]
  },
  {
   "cell_type": "code",
   "execution_count": 11,
   "metadata": {},
   "outputs": [
    {
     "data": {
      "text/plain": [
       "dict_keys(['Data', 'Status'])"
      ]
     },
     "execution_count": 11,
     "metadata": {},
     "output_type": "execute_result"
    }
   ],
   "source": [
    "file.groups.keys()"
   ]
  },
  {
   "cell_type": "markdown",
   "metadata": {},
   "source": [
    "<br>"
   ]
  },
  {
   "cell_type": "markdown",
   "metadata": {},
   "source": [
    "You can now select the `Data/MeasurementData/GeoData` group and get a list of available variables under this group."
   ]
  },
  {
   "cell_type": "code",
   "execution_count": 12,
   "metadata": {
    "scrolled": true
   },
   "outputs": [
    {
     "data": {
      "text/plain": [
       "dict_keys(['year', 'month', 'day', 'hour', 'minute', 'aerosol_sensor_readout_start_time', 'cloud_sensor_readout_starttime', 'aerosol_corner_latitude', 'aerosol_corner_longitude', 'aerosol_center_latitude', 'aerosol_center_longitude', 'cloud_corner_latitude', 'cloud_corner_longitude', 'cloud_center_latitude', 'cloud_center_longitude', 'solar_zenith_angle', 'solar_azimuth_angle', 'platform_zenith_angle', 'platform_azimuth_angle', 'sensor_scan_angle', 'single_scattering_angle', 'relative_sensor_azimuth_angle'])"
      ]
     },
     "execution_count": 12,
     "metadata": {},
     "output_type": "execute_result"
    }
   ],
   "source": [
    "file['Data/MeasurementData/GeoData'].variables.keys()"
   ]
  },
  {
   "cell_type": "code",
   "execution_count": 13,
   "metadata": {},
   "outputs": [
    {
     "data": {
      "text/plain": [
       "<class 'netCDF4._netCDF4.Variable'>\n",
       "int16 hour(scalar_dim)\n",
       "    Units: no_unit\n",
       "    Standard_name: hour\n",
       "    Long_name: hour_for_reference_readout\n",
       "    Comments: no_comment\n",
       "path = /Data/MeasurementData/GeoData\n",
       "unlimited dimensions: \n",
       "current shape = (1,)\n",
       "filling on, default _FillValue of -32767 used"
      ]
     },
     "execution_count": 13,
     "metadata": {},
     "output_type": "execute_result"
    }
   ],
   "source": [
    "file['Data/MeasurementData/GeoData/hour']"
   ]
  },
  {
   "cell_type": "markdown",
   "metadata": {},
   "source": [
    "<br>"
   ]
  },
  {
   "cell_type": "markdown",
   "metadata": {},
   "source": [
    "You can do the same for the group `Data/MeasurementData/ObservationData/Aerosol/`."
   ]
  },
  {
   "cell_type": "code",
   "execution_count": 14,
   "metadata": {
    "scrolled": true
   },
   "outputs": [
    {
     "data": {
      "text/plain": [
       "dict_keys(['aerosol_optical_depth', 'error_aerosol_optical_depth', 'aerosol_class', 'flag_ash', 'pmap_geometric_cloud_fraction', 'chlorophyll_pigment_concentration', 'aerosol_retrievals_flag'])"
      ]
     },
     "execution_count": 14,
     "metadata": {},
     "output_type": "execute_result"
    }
   ],
   "source": [
    "file['Data/MeasurementData/ObservationData/Aerosol'].variables.keys()"
   ]
  },
  {
   "cell_type": "markdown",
   "metadata": {},
   "source": [
    "<br>"
   ]
  },
  {
   "cell_type": "markdown",
   "metadata": {},
   "source": [
    "## <a id='multiple_files'></a>Load multiple PMAp data files as xarray.DataArray object"
   ]
  },
  {
   "cell_type": "markdown",
   "metadata": {},
   "source": [
    "For easier handling and plotting of the PMAp data, you can combine geolocation information and aerosol data values in a `xarray.DataArray` structure, which can be created with the `xarray.DataArray` constructor. \n",
    "\n",
    "You can make use of the function [load_l2_data_xr](../../functions.ipynb#load_l2_data_xr), which loads a PMAp Level 2 dataset and returns a `xarray.DataArray` with all the ground pixels of all files in a directory.\n",
    "\n",
    "The function takes following arguments:\n",
    "* `directory`: directory where the HDF file(s) are stored\n",
    "* `internal_filepath`: internal path of the data variable that is of interest, e.g. Data/MeasurementData/ObservationData/Aerosol/\n",
    "* `parameter`: paramter that is of interest, e.g. aerosol_optical_depth\n",
    "* `lat_path`: path of the latitude variable\n",
    "* `lon_path`: path of the longitude variable\n",
    "* `no_of_dims`: number of dimensions of input array\n",
    "* `paramname`: name of the parameter, preferable taken from the data file\n",
    "* `unit`: unit of the parameter, preferably taken from the data file\n",
    "* `longname`: longname of the parameter, preferably taken from the data file\n"
   ]
  },
  {
   "cell_type": "markdown",
   "metadata": {},
   "source": [
    "Let us start with the retrieval of the `Aerosol Optical Depth` information from the data file loaded above. From there, you are able to retrieve the parameter's attributes for `Units`, `Standard_name` and `Long_name`."
   ]
  },
  {
   "cell_type": "code",
   "execution_count": 15,
   "metadata": {},
   "outputs": [
    {
     "data": {
      "text/plain": [
       "<class 'netCDF4._netCDF4.Variable'>\n",
       "float64 aerosol_optical_depth(number_of_measurements)\n",
       "    Units: 1\n",
       "    Standard_name: aerosol_optical_depth\n",
       "    Long_name: AOD_aerosol_optical_depth_at_550nm\n",
       "    Comments: Aerosol Optical Depth (AOD) at 550nm\n",
       "path = /Data/MeasurementData/ObservationData/Aerosol\n",
       "unlimited dimensions: \n",
       "current shape = (101184,)\n",
       "filling on, default _FillValue of 9.969209968386869e+36 used"
      ]
     },
     "execution_count": 15,
     "metadata": {},
     "output_type": "execute_result"
    }
   ],
   "source": [
    "aod = file['Data/MeasurementData/ObservationData/Aerosol/aerosol_optical_depth']\n",
    "aod"
   ]
  },
  {
   "cell_type": "markdown",
   "metadata": {},
   "source": [
    "The next step is to construct a `xarray.DataArray` by using a modified version of the [load_l2_data_xr](../../functions.ipynb#load_l2_data_xr) function. We define the objects `latpath`, `lonpath` and `internal_filepath`."
   ]
  },
  {
   "cell_type": "code",
   "execution_count": 32,
   "metadata": {},
   "outputs": [],
   "source": [
    "def load_l2_data_xr(file_paths, internal_filepath, parameter, lat_path, lon_path, no_of_dims, \n",
    "                    paramname, unit, longname):\n",
    "    \"\"\" \n",
    "    Loads a Metop-A/B Level 2 dataset in HDF format and returns a xarray.DataArray with all the ground pixels of all directory \n",
    "    files. Uses function 'generate_xr_from_1D_vec' to generate the xarray.DataArray.\n",
    "    \n",
    "    Parameters:\n",
    "        directory(str): directory where the HDF files are stored\n",
    "        internal_filepath(str): internal path of the data file that is of interest, e.g. TOTAL_COLUMNS\n",
    "        parameter(str): paramter that is of interest, e.g. NO2\n",
    "        lat_path(str): name of latitude variable\n",
    "        lon_path(str): name of longitude variable\n",
    "        no_of_dims(int): number of dimensions of input array\n",
    "        paramname(str): name of parameter\n",
    "        unit(str): unit of the parameter, preferably taken from the data file\n",
    "        longname(str): longname of the parameter, preferably taken from the data file\n",
    "    \n",
    "    Returns:\n",
    "        1 or 2-dimensional xarray.DataArray with latitude / longitude information as coordinate information\n",
    "    \"\"\"\n",
    "    \n",
    "    datasets = []\n",
    "\n",
    "    for i in file_paths:\n",
    "        response = requests.get(i, stream=True)\n",
    "        if response.status_code == 200:\n",
    "            # Convert the streamed content into a file-like object\n",
    "            file_obj = io.BytesIO(response.content)\n",
    "            # Write to a temporary file and open it using the netcdf4 engine\n",
    "            with tempfile.NamedTemporaryFile(delete=False, suffix='.nc') as tmp_file:\n",
    "                tmp_file.write(file_obj.getbuffer())\n",
    "                tmp_file.flush()\n",
    "                \n",
    "            tmp=Dataset(tmp_file.name)\n",
    "\n",
    "            os.remove(tmp_file.name)\n",
    "            \n",
    "            param=tmp[internal_filepath+'/'+parameter]\n",
    "            da_tmp= generate_xr_from_1D_vec(tmp,lat_path, lon_path,\n",
    "                                    param, paramname, longname, no_of_dims, unit)\n",
    "            if(no_of_dims==1):\n",
    "                datasets.append(da_tmp)\n",
    "            else:\n",
    "                da_tmp_st = da_tmp.stack(ground_pixel=('x','y'))\n",
    "                datasets.append(da_tmp_st)\n",
    "\n",
    "    return xr.concat(datasets, dim='ground_pixel')"
   ]
  },
  {
   "cell_type": "code",
   "execution_count": 33,
   "metadata": {},
   "outputs": [
    {
     "data": {
      "text/plain": [
       "['https://s3.waw3-2.cloudferro.com/swift/v1/wmo/eodata/pmap/M02-GOME-GOMPMA02-NA-2.1-20200615043856.000000000Z-20200615062225-4879430.nc',\n",
       " 'https://s3.waw3-2.cloudferro.com/swift/v1/wmo/eodata/pmap/M02-GOME-GOMPMA02-NA-2.1-20200615062056.000000000Z-20200615080337-4879430.nc',\n",
       " 'https://s3.waw3-2.cloudferro.com/swift/v1/wmo/eodata/pmap/M02-GOME-GOMPMA02-NA-2.1-20200615094456.000000000Z-20200615112529-4879430.nc',\n",
       " 'https://s3.waw3-2.cloudferro.com/swift/v1/wmo/eodata/pmap/M02-GOME-GOMPMA02-NA-2.1-20200615112356.000000000Z-20200615130503-4879430.nc',\n",
       " 'https://s3.waw3-2.cloudferro.com/swift/v1/wmo/eodata/pmap/M02-GOME-GOMPMA02-NA-2.1-20200615130556.000000000Z-20200615144556-4879430.nc',\n",
       " 'https://s3.waw3-2.cloudferro.com/swift/v1/wmo/eodata/pmap/M02-GOME-GOMPMA02-NA-2.1-20200615144456.000000000Z-20200615162516-4879430.nc',\n",
       " 'https://s3.waw3-2.cloudferro.com/swift/v1/wmo/eodata/pmap/M02-GOME-GOMPMA02-NA-2.1-20200615162356.000000000Z-20200615180535-4879430.nc',\n",
       " 'https://s3.waw3-2.cloudferro.com/swift/v1/wmo/eodata/pmap/M02-GOME-GOMPMA02-NA-2.1-20200615180556.000000000Z-20200615194657-4879430.nc',\n",
       " 'https://s3.waw3-2.cloudferro.com/swift/v1/wmo/eodata/pmap/M02-GOME-GOMPMA02-NA-2.1-20200615194456.000000000Z-20200615212810-4879430.nc',\n",
       " 'https://s3.waw3-2.cloudferro.com/swift/v1/wmo/eodata/pmap/M02-GOME-GOMPMA02-NA-2.1-20200615212656.000000000Z-20200615231010-4879430.nc',\n",
       " 'https://s3.waw3-2.cloudferro.com/swift/v1/wmo/eodata/pmap/M02-GOME-GOMPMA02-NA-2.1-20200615230856.000000000Z-20200616005253-4879430.nc',\n",
       " 'https://s3.waw3-2.cloudferro.com/swift/v1/wmo/eodata/pmap/M02-GOME-GOMPMA02-NA-2.1-20200616041756.000000000Z-20200616060127-4879430.nc']"
      ]
     },
     "execution_count": 33,
     "metadata": {},
     "output_type": "execute_result"
    }
   ],
   "source": [
    "pmap_files = [base_url + path for path in all_paths_list if 'GOMPMA02' in path and path.endswith('.nc')]\n",
    "pmap_files"
   ]
  },
  {
   "cell_type": "code",
   "execution_count": 34,
   "metadata": {},
   "outputs": [],
   "source": [
    "directory='https://s3.waw3-2.cloudferro.com/swift/v1/wmo/eodata/pmap/'\n",
    "\n",
    "latpath='Data/MeasurementData/GeoData/aerosol_center_latitude'\n",
    "lonpath='Data/MeasurementData/GeoData/aerosol_center_longitude'\n",
    "internal_filepath='Data/MeasurementData/ObservationData/Aerosol'"
   ]
  },
  {
   "cell_type": "markdown",
   "metadata": {},
   "source": [
    "<br>"
   ]
  },
  {
   "cell_type": "markdown",
   "metadata": {},
   "source": [
    "Let us construct the DataArray object and call it `aod_xr`. The resulting object is a one-dimensional `xarray.DataArray` with more than 1.2 Mio ground pixel values and latitude and longitude as coordinate information."
   ]
  },
  {
   "cell_type": "code",
   "execution_count": 35,
   "metadata": {},
   "outputs": [
    {
     "data": {
      "text/html": [
       "<div><svg style=\"position: absolute; width: 0; height: 0; overflow: hidden\">\n",
       "<defs>\n",
       "<symbol id=\"icon-database\" viewBox=\"0 0 32 32\">\n",
       "<path d=\"M16 0c-8.837 0-16 2.239-16 5v4c0 2.761 7.163 5 16 5s16-2.239 16-5v-4c0-2.761-7.163-5-16-5z\"></path>\n",
       "<path d=\"M16 17c-8.837 0-16-2.239-16-5v6c0 2.761 7.163 5 16 5s16-2.239 16-5v-6c0 2.761-7.163 5-16 5z\"></path>\n",
       "<path d=\"M16 26c-8.837 0-16-2.239-16-5v6c0 2.761 7.163 5 16 5s16-2.239 16-5v-6c0 2.761-7.163 5-16 5z\"></path>\n",
       "</symbol>\n",
       "<symbol id=\"icon-file-text2\" viewBox=\"0 0 32 32\">\n",
       "<path d=\"M28.681 7.159c-0.694-0.947-1.662-2.053-2.724-3.116s-2.169-2.030-3.116-2.724c-1.612-1.182-2.393-1.319-2.841-1.319h-15.5c-1.378 0-2.5 1.121-2.5 2.5v27c0 1.378 1.122 2.5 2.5 2.5h23c1.378 0 2.5-1.122 2.5-2.5v-19.5c0-0.448-0.137-1.23-1.319-2.841zM24.543 5.457c0.959 0.959 1.712 1.825 2.268 2.543h-4.811v-4.811c0.718 0.556 1.584 1.309 2.543 2.268zM28 29.5c0 0.271-0.229 0.5-0.5 0.5h-23c-0.271 0-0.5-0.229-0.5-0.5v-27c0-0.271 0.229-0.5 0.5-0.5 0 0 15.499-0 15.5 0v7c0 0.552 0.448 1 1 1h7v19.5z\"></path>\n",
       "<path d=\"M23 26h-14c-0.552 0-1-0.448-1-1s0.448-1 1-1h14c0.552 0 1 0.448 1 1s-0.448 1-1 1z\"></path>\n",
       "<path d=\"M23 22h-14c-0.552 0-1-0.448-1-1s0.448-1 1-1h14c0.552 0 1 0.448 1 1s-0.448 1-1 1z\"></path>\n",
       "<path d=\"M23 18h-14c-0.552 0-1-0.448-1-1s0.448-1 1-1h14c0.552 0 1 0.448 1 1s-0.448 1-1 1z\"></path>\n",
       "</symbol>\n",
       "</defs>\n",
       "</svg>\n",
       "<style>/* CSS stylesheet for displaying xarray objects in jupyterlab.\n",
       " *\n",
       " */\n",
       "\n",
       ":root {\n",
       "  --xr-font-color0: var(--jp-content-font-color0, rgba(0, 0, 0, 1));\n",
       "  --xr-font-color2: var(--jp-content-font-color2, rgba(0, 0, 0, 0.54));\n",
       "  --xr-font-color3: var(--jp-content-font-color3, rgba(0, 0, 0, 0.38));\n",
       "  --xr-border-color: var(--jp-border-color2, #e0e0e0);\n",
       "  --xr-disabled-color: var(--jp-layout-color3, #bdbdbd);\n",
       "  --xr-background-color: var(--jp-layout-color0, white);\n",
       "  --xr-background-color-row-even: var(--jp-layout-color1, white);\n",
       "  --xr-background-color-row-odd: var(--jp-layout-color2, #eeeeee);\n",
       "}\n",
       "\n",
       "html[theme=dark],\n",
       "body[data-theme=dark],\n",
       "body.vscode-dark {\n",
       "  --xr-font-color0: rgba(255, 255, 255, 1);\n",
       "  --xr-font-color2: rgba(255, 255, 255, 0.54);\n",
       "  --xr-font-color3: rgba(255, 255, 255, 0.38);\n",
       "  --xr-border-color: #1F1F1F;\n",
       "  --xr-disabled-color: #515151;\n",
       "  --xr-background-color: #111111;\n",
       "  --xr-background-color-row-even: #111111;\n",
       "  --xr-background-color-row-odd: #313131;\n",
       "}\n",
       "\n",
       ".xr-wrap {\n",
       "  display: block !important;\n",
       "  min-width: 300px;\n",
       "  max-width: 700px;\n",
       "}\n",
       "\n",
       ".xr-text-repr-fallback {\n",
       "  /* fallback to plain text repr when CSS is not injected (untrusted notebook) */\n",
       "  display: none;\n",
       "}\n",
       "\n",
       ".xr-header {\n",
       "  padding-top: 6px;\n",
       "  padding-bottom: 6px;\n",
       "  margin-bottom: 4px;\n",
       "  border-bottom: solid 1px var(--xr-border-color);\n",
       "}\n",
       "\n",
       ".xr-header > div,\n",
       ".xr-header > ul {\n",
       "  display: inline;\n",
       "  margin-top: 0;\n",
       "  margin-bottom: 0;\n",
       "}\n",
       "\n",
       ".xr-obj-type,\n",
       ".xr-array-name {\n",
       "  margin-left: 2px;\n",
       "  margin-right: 10px;\n",
       "}\n",
       "\n",
       ".xr-obj-type {\n",
       "  color: var(--xr-font-color2);\n",
       "}\n",
       "\n",
       ".xr-sections {\n",
       "  padding-left: 0 !important;\n",
       "  display: grid;\n",
       "  grid-template-columns: 150px auto auto 1fr 20px 20px;\n",
       "}\n",
       "\n",
       ".xr-section-item {\n",
       "  display: contents;\n",
       "}\n",
       "\n",
       ".xr-section-item input {\n",
       "  display: none;\n",
       "}\n",
       "\n",
       ".xr-section-item input + label {\n",
       "  color: var(--xr-disabled-color);\n",
       "}\n",
       "\n",
       ".xr-section-item input:enabled + label {\n",
       "  cursor: pointer;\n",
       "  color: var(--xr-font-color2);\n",
       "}\n",
       "\n",
       ".xr-section-item input:enabled + label:hover {\n",
       "  color: var(--xr-font-color0);\n",
       "}\n",
       "\n",
       ".xr-section-summary {\n",
       "  grid-column: 1;\n",
       "  color: var(--xr-font-color2);\n",
       "  font-weight: 500;\n",
       "}\n",
       "\n",
       ".xr-section-summary > span {\n",
       "  display: inline-block;\n",
       "  padding-left: 0.5em;\n",
       "}\n",
       "\n",
       ".xr-section-summary-in:disabled + label {\n",
       "  color: var(--xr-font-color2);\n",
       "}\n",
       "\n",
       ".xr-section-summary-in + label:before {\n",
       "  display: inline-block;\n",
       "  content: '►';\n",
       "  font-size: 11px;\n",
       "  width: 15px;\n",
       "  text-align: center;\n",
       "}\n",
       "\n",
       ".xr-section-summary-in:disabled + label:before {\n",
       "  color: var(--xr-disabled-color);\n",
       "}\n",
       "\n",
       ".xr-section-summary-in:checked + label:before {\n",
       "  content: '▼';\n",
       "}\n",
       "\n",
       ".xr-section-summary-in:checked + label > span {\n",
       "  display: none;\n",
       "}\n",
       "\n",
       ".xr-section-summary,\n",
       ".xr-section-inline-details {\n",
       "  padding-top: 4px;\n",
       "  padding-bottom: 4px;\n",
       "}\n",
       "\n",
       ".xr-section-inline-details {\n",
       "  grid-column: 2 / -1;\n",
       "}\n",
       "\n",
       ".xr-section-details {\n",
       "  display: none;\n",
       "  grid-column: 1 / -1;\n",
       "  margin-bottom: 5px;\n",
       "}\n",
       "\n",
       ".xr-section-summary-in:checked ~ .xr-section-details {\n",
       "  display: contents;\n",
       "}\n",
       "\n",
       ".xr-array-wrap {\n",
       "  grid-column: 1 / -1;\n",
       "  display: grid;\n",
       "  grid-template-columns: 20px auto;\n",
       "}\n",
       "\n",
       ".xr-array-wrap > label {\n",
       "  grid-column: 1;\n",
       "  vertical-align: top;\n",
       "}\n",
       "\n",
       ".xr-preview {\n",
       "  color: var(--xr-font-color3);\n",
       "}\n",
       "\n",
       ".xr-array-preview,\n",
       ".xr-array-data {\n",
       "  padding: 0 5px !important;\n",
       "  grid-column: 2;\n",
       "}\n",
       "\n",
       ".xr-array-data,\n",
       ".xr-array-in:checked ~ .xr-array-preview {\n",
       "  display: none;\n",
       "}\n",
       "\n",
       ".xr-array-in:checked ~ .xr-array-data,\n",
       ".xr-array-preview {\n",
       "  display: inline-block;\n",
       "}\n",
       "\n",
       ".xr-dim-list {\n",
       "  display: inline-block !important;\n",
       "  list-style: none;\n",
       "  padding: 0 !important;\n",
       "  margin: 0;\n",
       "}\n",
       "\n",
       ".xr-dim-list li {\n",
       "  display: inline-block;\n",
       "  padding: 0;\n",
       "  margin: 0;\n",
       "}\n",
       "\n",
       ".xr-dim-list:before {\n",
       "  content: '(';\n",
       "}\n",
       "\n",
       ".xr-dim-list:after {\n",
       "  content: ')';\n",
       "}\n",
       "\n",
       ".xr-dim-list li:not(:last-child):after {\n",
       "  content: ',';\n",
       "  padding-right: 5px;\n",
       "}\n",
       "\n",
       ".xr-has-index {\n",
       "  font-weight: bold;\n",
       "}\n",
       "\n",
       ".xr-var-list,\n",
       ".xr-var-item {\n",
       "  display: contents;\n",
       "}\n",
       "\n",
       ".xr-var-item > div,\n",
       ".xr-var-item label,\n",
       ".xr-var-item > .xr-var-name span {\n",
       "  background-color: var(--xr-background-color-row-even);\n",
       "  margin-bottom: 0;\n",
       "}\n",
       "\n",
       ".xr-var-item > .xr-var-name:hover span {\n",
       "  padding-right: 5px;\n",
       "}\n",
       "\n",
       ".xr-var-list > li:nth-child(odd) > div,\n",
       ".xr-var-list > li:nth-child(odd) > label,\n",
       ".xr-var-list > li:nth-child(odd) > .xr-var-name span {\n",
       "  background-color: var(--xr-background-color-row-odd);\n",
       "}\n",
       "\n",
       ".xr-var-name {\n",
       "  grid-column: 1;\n",
       "}\n",
       "\n",
       ".xr-var-dims {\n",
       "  grid-column: 2;\n",
       "}\n",
       "\n",
       ".xr-var-dtype {\n",
       "  grid-column: 3;\n",
       "  text-align: right;\n",
       "  color: var(--xr-font-color2);\n",
       "}\n",
       "\n",
       ".xr-var-preview {\n",
       "  grid-column: 4;\n",
       "}\n",
       "\n",
       ".xr-index-preview {\n",
       "  grid-column: 2 / 5;\n",
       "  color: var(--xr-font-color2);\n",
       "}\n",
       "\n",
       ".xr-var-name,\n",
       ".xr-var-dims,\n",
       ".xr-var-dtype,\n",
       ".xr-preview,\n",
       ".xr-attrs dt {\n",
       "  white-space: nowrap;\n",
       "  overflow: hidden;\n",
       "  text-overflow: ellipsis;\n",
       "  padding-right: 10px;\n",
       "}\n",
       "\n",
       ".xr-var-name:hover,\n",
       ".xr-var-dims:hover,\n",
       ".xr-var-dtype:hover,\n",
       ".xr-attrs dt:hover {\n",
       "  overflow: visible;\n",
       "  width: auto;\n",
       "  z-index: 1;\n",
       "}\n",
       "\n",
       ".xr-var-attrs,\n",
       ".xr-var-data,\n",
       ".xr-index-data {\n",
       "  display: none;\n",
       "  background-color: var(--xr-background-color) !important;\n",
       "  padding-bottom: 5px !important;\n",
       "}\n",
       "\n",
       ".xr-var-attrs-in:checked ~ .xr-var-attrs,\n",
       ".xr-var-data-in:checked ~ .xr-var-data,\n",
       ".xr-index-data-in:checked ~ .xr-index-data {\n",
       "  display: block;\n",
       "}\n",
       "\n",
       ".xr-var-data > table {\n",
       "  float: right;\n",
       "}\n",
       "\n",
       ".xr-var-name span,\n",
       ".xr-var-data,\n",
       ".xr-index-name div,\n",
       ".xr-index-data,\n",
       ".xr-attrs {\n",
       "  padding-left: 25px !important;\n",
       "}\n",
       "\n",
       ".xr-attrs,\n",
       ".xr-var-attrs,\n",
       ".xr-var-data,\n",
       ".xr-index-data {\n",
       "  grid-column: 1 / -1;\n",
       "}\n",
       "\n",
       "dl.xr-attrs {\n",
       "  padding: 0;\n",
       "  margin: 0;\n",
       "  display: grid;\n",
       "  grid-template-columns: 125px auto;\n",
       "}\n",
       "\n",
       ".xr-attrs dt,\n",
       ".xr-attrs dd {\n",
       "  padding: 0;\n",
       "  margin: 0;\n",
       "  float: left;\n",
       "  padding-right: 10px;\n",
       "  width: auto;\n",
       "}\n",
       "\n",
       ".xr-attrs dt {\n",
       "  font-weight: normal;\n",
       "  grid-column: 1;\n",
       "}\n",
       "\n",
       ".xr-attrs dt:hover span {\n",
       "  display: inline-block;\n",
       "  background: var(--xr-background-color);\n",
       "  padding-right: 10px;\n",
       "}\n",
       "\n",
       ".xr-attrs dd {\n",
       "  grid-column: 2;\n",
       "  white-space: pre-wrap;\n",
       "  word-break: break-all;\n",
       "}\n",
       "\n",
       ".xr-icon-database,\n",
       ".xr-icon-file-text2,\n",
       ".xr-no-icon {\n",
       "  display: inline-block;\n",
       "  vertical-align: middle;\n",
       "  width: 1em;\n",
       "  height: 1.5em !important;\n",
       "  stroke-width: 0;\n",
       "  stroke: currentColor;\n",
       "  fill: currentColor;\n",
       "}\n",
       "</style><pre class='xr-text-repr-fallback'>&lt;xarray.DataArray &#x27;aerosol_optical_depth&#x27; (ground_pixel: 1278528)&gt; Size: 10MB\n",
       "array([-999.999999, -999.999999, -999.999999, ..., -999.999999,\n",
       "       -999.999999, -999.999999])\n",
       "Coordinates:\n",
       "    latitude   (ground_pixel) float64 10MB 64.64 64.66 64.68 ... 65.93 65.94\n",
       "    longitude  (ground_pixel) float64 10MB 89.69 89.6 89.51 ... 48.85 48.75\n",
       "Dimensions without coordinates: ground_pixel\n",
       "Attributes:\n",
       "    long_name:  AOD_aerosol_optical_depth_at_550nm\n",
       "    units:      1</pre><div class='xr-wrap' style='display:none'><div class='xr-header'><div class='xr-obj-type'>xarray.DataArray</div><div class='xr-array-name'>'aerosol_optical_depth'</div><ul class='xr-dim-list'><li><span>ground_pixel</span>: 1278528</li></ul></div><ul class='xr-sections'><li class='xr-section-item'><div class='xr-array-wrap'><input id='section-9606b0fc-6674-4b11-a139-20575e36f2bc' class='xr-array-in' type='checkbox' checked><label for='section-9606b0fc-6674-4b11-a139-20575e36f2bc' title='Show/hide data repr'><svg class='icon xr-icon-database'><use xlink:href='#icon-database'></use></svg></label><div class='xr-array-preview xr-preview'><span>-1e+03 -1e+03 -1e+03 -1e+03 -1e+03 ... -1e+03 -1e+03 -1e+03 -1e+03</span></div><div class='xr-array-data'><pre>array([-999.999999, -999.999999, -999.999999, ..., -999.999999,\n",
       "       -999.999999, -999.999999])</pre></div></div></li><li class='xr-section-item'><input id='section-41584119-691a-4b1b-a4fd-8281ae62b3fe' class='xr-section-summary-in' type='checkbox'  checked><label for='section-41584119-691a-4b1b-a4fd-8281ae62b3fe' class='xr-section-summary' >Coordinates: <span>(2)</span></label><div class='xr-section-inline-details'></div><div class='xr-section-details'><ul class='xr-var-list'><li class='xr-var-item'><div class='xr-var-name'><span>latitude</span></div><div class='xr-var-dims'>(ground_pixel)</div><div class='xr-var-dtype'>float64</div><div class='xr-var-preview xr-preview'>64.64 64.66 64.68 ... 65.93 65.94</div><input id='attrs-5db9ef3a-7c87-45d8-83ac-95ff5c37e492' class='xr-var-attrs-in' type='checkbox' disabled><label for='attrs-5db9ef3a-7c87-45d8-83ac-95ff5c37e492' title='Show/Hide attributes'><svg class='icon xr-icon-file-text2'><use xlink:href='#icon-file-text2'></use></svg></label><input id='data-65eee195-b079-44e4-813a-c12866e00745' class='xr-var-data-in' type='checkbox'><label for='data-65eee195-b079-44e4-813a-c12866e00745' title='Show/Hide data repr'><svg class='icon xr-icon-database'><use xlink:href='#icon-database'></use></svg></label><div class='xr-var-attrs'><dl class='xr-attrs'></dl></div><div class='xr-var-data'><pre>array([64.635139, 64.657997, 64.680647, ..., 65.92684 , 65.934704,\n",
       "       65.942559])</pre></div></li><li class='xr-var-item'><div class='xr-var-name'><span>longitude</span></div><div class='xr-var-dims'>(ground_pixel)</div><div class='xr-var-dtype'>float64</div><div class='xr-var-preview xr-preview'>89.69 89.6 89.51 ... 48.85 48.75</div><input id='attrs-80250d6e-3f13-4d8c-b7b5-a11f7fb2af6d' class='xr-var-attrs-in' type='checkbox' disabled><label for='attrs-80250d6e-3f13-4d8c-b7b5-a11f7fb2af6d' title='Show/Hide attributes'><svg class='icon xr-icon-file-text2'><use xlink:href='#icon-file-text2'></use></svg></label><input id='data-7b3debf3-56cf-4646-a864-cbb57ef58c2c' class='xr-var-data-in' type='checkbox'><label for='data-7b3debf3-56cf-4646-a864-cbb57ef58c2c' title='Show/Hide data repr'><svg class='icon xr-icon-database'><use xlink:href='#icon-database'></use></svg></label><div class='xr-var-attrs'><dl class='xr-attrs'></dl></div><div class='xr-var-data'><pre>array([89.692893, 89.599832, 89.507188, ..., 48.949855, 48.851889,\n",
       "       48.753381])</pre></div></li></ul></div></li><li class='xr-section-item'><input id='section-d2e968a6-7c3e-42ed-a6fd-e58abd4b2526' class='xr-section-summary-in' type='checkbox' disabled ><label for='section-d2e968a6-7c3e-42ed-a6fd-e58abd4b2526' class='xr-section-summary'  title='Expand/collapse section'>Indexes: <span>(0)</span></label><div class='xr-section-inline-details'></div><div class='xr-section-details'><ul class='xr-var-list'></ul></div></li><li class='xr-section-item'><input id='section-27d2b00e-ff90-4a60-934a-700d586312c7' class='xr-section-summary-in' type='checkbox'  checked><label for='section-27d2b00e-ff90-4a60-934a-700d586312c7' class='xr-section-summary' >Attributes: <span>(2)</span></label><div class='xr-section-inline-details'></div><div class='xr-section-details'><dl class='xr-attrs'><dt><span>long_name :</span></dt><dd>AOD_aerosol_optical_depth_at_550nm</dd><dt><span>units :</span></dt><dd>1</dd></dl></div></li></ul></div></div>"
      ],
      "text/plain": [
       "<xarray.DataArray 'aerosol_optical_depth' (ground_pixel: 1278528)> Size: 10MB\n",
       "array([-999.999999, -999.999999, -999.999999, ..., -999.999999,\n",
       "       -999.999999, -999.999999])\n",
       "Coordinates:\n",
       "    latitude   (ground_pixel) float64 10MB 64.64 64.66 64.68 ... 65.93 65.94\n",
       "    longitude  (ground_pixel) float64 10MB 89.69 89.6 89.51 ... 48.85 48.75\n",
       "Dimensions without coordinates: ground_pixel\n",
       "Attributes:\n",
       "    long_name:  AOD_aerosol_optical_depth_at_550nm\n",
       "    units:      1"
      ]
     },
     "execution_count": 35,
     "metadata": {},
     "output_type": "execute_result"
    }
   ],
   "source": [
    "aod_xr=load_l2_data_xr(file_paths=pmap_files, \n",
    "                    internal_filepath=internal_filepath,\n",
    "                    parameter='aerosol_optical_depth', \n",
    "                    lat_path=latpath, \n",
    "                    lon_path=lonpath, \n",
    "                    no_of_dims=1,\n",
    "                    paramname=aod.Standard_name,\n",
    "                    unit=aod.Units,\n",
    "                    longname=aod.Long_name)\n",
    "\n",
    "aod_xr"
   ]
  },
  {
   "cell_type": "markdown",
   "metadata": {},
   "source": [
    "<br>"
   ]
  },
  {
   "cell_type": "markdown",
   "metadata": {},
   "source": [
    "## Generate a geographical subset for the Mediterranean region"
   ]
  },
  {
   "cell_type": "markdown",
   "metadata": {},
   "source": [
    "Let us now create a geographic subset for the Mediterranean region. You can use the function [generate_geographical_subset](../../functions.ipynb#generate_geographcial_subset) to create a subset based on latitude  and longitude information. You do not want to reassign the longitude values, e.g. to bring the values from a [0,360] grid to a [-180, 180] grid. For this reason, you set this keyword argument to `False`.\n",
    "\n",
    "You see that the subsetting data array only has a bit more than 62.000 pixel information."
   ]
  },
  {
   "cell_type": "code",
   "execution_count": 36,
   "metadata": {},
   "outputs": [
    {
     "data": {
      "text/html": [
       "<div><svg style=\"position: absolute; width: 0; height: 0; overflow: hidden\">\n",
       "<defs>\n",
       "<symbol id=\"icon-database\" viewBox=\"0 0 32 32\">\n",
       "<path d=\"M16 0c-8.837 0-16 2.239-16 5v4c0 2.761 7.163 5 16 5s16-2.239 16-5v-4c0-2.761-7.163-5-16-5z\"></path>\n",
       "<path d=\"M16 17c-8.837 0-16-2.239-16-5v6c0 2.761 7.163 5 16 5s16-2.239 16-5v-6c0 2.761-7.163 5-16 5z\"></path>\n",
       "<path d=\"M16 26c-8.837 0-16-2.239-16-5v6c0 2.761 7.163 5 16 5s16-2.239 16-5v-6c0 2.761-7.163 5-16 5z\"></path>\n",
       "</symbol>\n",
       "<symbol id=\"icon-file-text2\" viewBox=\"0 0 32 32\">\n",
       "<path d=\"M28.681 7.159c-0.694-0.947-1.662-2.053-2.724-3.116s-2.169-2.030-3.116-2.724c-1.612-1.182-2.393-1.319-2.841-1.319h-15.5c-1.378 0-2.5 1.121-2.5 2.5v27c0 1.378 1.122 2.5 2.5 2.5h23c1.378 0 2.5-1.122 2.5-2.5v-19.5c0-0.448-0.137-1.23-1.319-2.841zM24.543 5.457c0.959 0.959 1.712 1.825 2.268 2.543h-4.811v-4.811c0.718 0.556 1.584 1.309 2.543 2.268zM28 29.5c0 0.271-0.229 0.5-0.5 0.5h-23c-0.271 0-0.5-0.229-0.5-0.5v-27c0-0.271 0.229-0.5 0.5-0.5 0 0 15.499-0 15.5 0v7c0 0.552 0.448 1 1 1h7v19.5z\"></path>\n",
       "<path d=\"M23 26h-14c-0.552 0-1-0.448-1-1s0.448-1 1-1h14c0.552 0 1 0.448 1 1s-0.448 1-1 1z\"></path>\n",
       "<path d=\"M23 22h-14c-0.552 0-1-0.448-1-1s0.448-1 1-1h14c0.552 0 1 0.448 1 1s-0.448 1-1 1z\"></path>\n",
       "<path d=\"M23 18h-14c-0.552 0-1-0.448-1-1s0.448-1 1-1h14c0.552 0 1 0.448 1 1s-0.448 1-1 1z\"></path>\n",
       "</symbol>\n",
       "</defs>\n",
       "</svg>\n",
       "<style>/* CSS stylesheet for displaying xarray objects in jupyterlab.\n",
       " *\n",
       " */\n",
       "\n",
       ":root {\n",
       "  --xr-font-color0: var(--jp-content-font-color0, rgba(0, 0, 0, 1));\n",
       "  --xr-font-color2: var(--jp-content-font-color2, rgba(0, 0, 0, 0.54));\n",
       "  --xr-font-color3: var(--jp-content-font-color3, rgba(0, 0, 0, 0.38));\n",
       "  --xr-border-color: var(--jp-border-color2, #e0e0e0);\n",
       "  --xr-disabled-color: var(--jp-layout-color3, #bdbdbd);\n",
       "  --xr-background-color: var(--jp-layout-color0, white);\n",
       "  --xr-background-color-row-even: var(--jp-layout-color1, white);\n",
       "  --xr-background-color-row-odd: var(--jp-layout-color2, #eeeeee);\n",
       "}\n",
       "\n",
       "html[theme=dark],\n",
       "body[data-theme=dark],\n",
       "body.vscode-dark {\n",
       "  --xr-font-color0: rgba(255, 255, 255, 1);\n",
       "  --xr-font-color2: rgba(255, 255, 255, 0.54);\n",
       "  --xr-font-color3: rgba(255, 255, 255, 0.38);\n",
       "  --xr-border-color: #1F1F1F;\n",
       "  --xr-disabled-color: #515151;\n",
       "  --xr-background-color: #111111;\n",
       "  --xr-background-color-row-even: #111111;\n",
       "  --xr-background-color-row-odd: #313131;\n",
       "}\n",
       "\n",
       ".xr-wrap {\n",
       "  display: block !important;\n",
       "  min-width: 300px;\n",
       "  max-width: 700px;\n",
       "}\n",
       "\n",
       ".xr-text-repr-fallback {\n",
       "  /* fallback to plain text repr when CSS is not injected (untrusted notebook) */\n",
       "  display: none;\n",
       "}\n",
       "\n",
       ".xr-header {\n",
       "  padding-top: 6px;\n",
       "  padding-bottom: 6px;\n",
       "  margin-bottom: 4px;\n",
       "  border-bottom: solid 1px var(--xr-border-color);\n",
       "}\n",
       "\n",
       ".xr-header > div,\n",
       ".xr-header > ul {\n",
       "  display: inline;\n",
       "  margin-top: 0;\n",
       "  margin-bottom: 0;\n",
       "}\n",
       "\n",
       ".xr-obj-type,\n",
       ".xr-array-name {\n",
       "  margin-left: 2px;\n",
       "  margin-right: 10px;\n",
       "}\n",
       "\n",
       ".xr-obj-type {\n",
       "  color: var(--xr-font-color2);\n",
       "}\n",
       "\n",
       ".xr-sections {\n",
       "  padding-left: 0 !important;\n",
       "  display: grid;\n",
       "  grid-template-columns: 150px auto auto 1fr 20px 20px;\n",
       "}\n",
       "\n",
       ".xr-section-item {\n",
       "  display: contents;\n",
       "}\n",
       "\n",
       ".xr-section-item input {\n",
       "  display: none;\n",
       "}\n",
       "\n",
       ".xr-section-item input + label {\n",
       "  color: var(--xr-disabled-color);\n",
       "}\n",
       "\n",
       ".xr-section-item input:enabled + label {\n",
       "  cursor: pointer;\n",
       "  color: var(--xr-font-color2);\n",
       "}\n",
       "\n",
       ".xr-section-item input:enabled + label:hover {\n",
       "  color: var(--xr-font-color0);\n",
       "}\n",
       "\n",
       ".xr-section-summary {\n",
       "  grid-column: 1;\n",
       "  color: var(--xr-font-color2);\n",
       "  font-weight: 500;\n",
       "}\n",
       "\n",
       ".xr-section-summary > span {\n",
       "  display: inline-block;\n",
       "  padding-left: 0.5em;\n",
       "}\n",
       "\n",
       ".xr-section-summary-in:disabled + label {\n",
       "  color: var(--xr-font-color2);\n",
       "}\n",
       "\n",
       ".xr-section-summary-in + label:before {\n",
       "  display: inline-block;\n",
       "  content: '►';\n",
       "  font-size: 11px;\n",
       "  width: 15px;\n",
       "  text-align: center;\n",
       "}\n",
       "\n",
       ".xr-section-summary-in:disabled + label:before {\n",
       "  color: var(--xr-disabled-color);\n",
       "}\n",
       "\n",
       ".xr-section-summary-in:checked + label:before {\n",
       "  content: '▼';\n",
       "}\n",
       "\n",
       ".xr-section-summary-in:checked + label > span {\n",
       "  display: none;\n",
       "}\n",
       "\n",
       ".xr-section-summary,\n",
       ".xr-section-inline-details {\n",
       "  padding-top: 4px;\n",
       "  padding-bottom: 4px;\n",
       "}\n",
       "\n",
       ".xr-section-inline-details {\n",
       "  grid-column: 2 / -1;\n",
       "}\n",
       "\n",
       ".xr-section-details {\n",
       "  display: none;\n",
       "  grid-column: 1 / -1;\n",
       "  margin-bottom: 5px;\n",
       "}\n",
       "\n",
       ".xr-section-summary-in:checked ~ .xr-section-details {\n",
       "  display: contents;\n",
       "}\n",
       "\n",
       ".xr-array-wrap {\n",
       "  grid-column: 1 / -1;\n",
       "  display: grid;\n",
       "  grid-template-columns: 20px auto;\n",
       "}\n",
       "\n",
       ".xr-array-wrap > label {\n",
       "  grid-column: 1;\n",
       "  vertical-align: top;\n",
       "}\n",
       "\n",
       ".xr-preview {\n",
       "  color: var(--xr-font-color3);\n",
       "}\n",
       "\n",
       ".xr-array-preview,\n",
       ".xr-array-data {\n",
       "  padding: 0 5px !important;\n",
       "  grid-column: 2;\n",
       "}\n",
       "\n",
       ".xr-array-data,\n",
       ".xr-array-in:checked ~ .xr-array-preview {\n",
       "  display: none;\n",
       "}\n",
       "\n",
       ".xr-array-in:checked ~ .xr-array-data,\n",
       ".xr-array-preview {\n",
       "  display: inline-block;\n",
       "}\n",
       "\n",
       ".xr-dim-list {\n",
       "  display: inline-block !important;\n",
       "  list-style: none;\n",
       "  padding: 0 !important;\n",
       "  margin: 0;\n",
       "}\n",
       "\n",
       ".xr-dim-list li {\n",
       "  display: inline-block;\n",
       "  padding: 0;\n",
       "  margin: 0;\n",
       "}\n",
       "\n",
       ".xr-dim-list:before {\n",
       "  content: '(';\n",
       "}\n",
       "\n",
       ".xr-dim-list:after {\n",
       "  content: ')';\n",
       "}\n",
       "\n",
       ".xr-dim-list li:not(:last-child):after {\n",
       "  content: ',';\n",
       "  padding-right: 5px;\n",
       "}\n",
       "\n",
       ".xr-has-index {\n",
       "  font-weight: bold;\n",
       "}\n",
       "\n",
       ".xr-var-list,\n",
       ".xr-var-item {\n",
       "  display: contents;\n",
       "}\n",
       "\n",
       ".xr-var-item > div,\n",
       ".xr-var-item label,\n",
       ".xr-var-item > .xr-var-name span {\n",
       "  background-color: var(--xr-background-color-row-even);\n",
       "  margin-bottom: 0;\n",
       "}\n",
       "\n",
       ".xr-var-item > .xr-var-name:hover span {\n",
       "  padding-right: 5px;\n",
       "}\n",
       "\n",
       ".xr-var-list > li:nth-child(odd) > div,\n",
       ".xr-var-list > li:nth-child(odd) > label,\n",
       ".xr-var-list > li:nth-child(odd) > .xr-var-name span {\n",
       "  background-color: var(--xr-background-color-row-odd);\n",
       "}\n",
       "\n",
       ".xr-var-name {\n",
       "  grid-column: 1;\n",
       "}\n",
       "\n",
       ".xr-var-dims {\n",
       "  grid-column: 2;\n",
       "}\n",
       "\n",
       ".xr-var-dtype {\n",
       "  grid-column: 3;\n",
       "  text-align: right;\n",
       "  color: var(--xr-font-color2);\n",
       "}\n",
       "\n",
       ".xr-var-preview {\n",
       "  grid-column: 4;\n",
       "}\n",
       "\n",
       ".xr-index-preview {\n",
       "  grid-column: 2 / 5;\n",
       "  color: var(--xr-font-color2);\n",
       "}\n",
       "\n",
       ".xr-var-name,\n",
       ".xr-var-dims,\n",
       ".xr-var-dtype,\n",
       ".xr-preview,\n",
       ".xr-attrs dt {\n",
       "  white-space: nowrap;\n",
       "  overflow: hidden;\n",
       "  text-overflow: ellipsis;\n",
       "  padding-right: 10px;\n",
       "}\n",
       "\n",
       ".xr-var-name:hover,\n",
       ".xr-var-dims:hover,\n",
       ".xr-var-dtype:hover,\n",
       ".xr-attrs dt:hover {\n",
       "  overflow: visible;\n",
       "  width: auto;\n",
       "  z-index: 1;\n",
       "}\n",
       "\n",
       ".xr-var-attrs,\n",
       ".xr-var-data,\n",
       ".xr-index-data {\n",
       "  display: none;\n",
       "  background-color: var(--xr-background-color) !important;\n",
       "  padding-bottom: 5px !important;\n",
       "}\n",
       "\n",
       ".xr-var-attrs-in:checked ~ .xr-var-attrs,\n",
       ".xr-var-data-in:checked ~ .xr-var-data,\n",
       ".xr-index-data-in:checked ~ .xr-index-data {\n",
       "  display: block;\n",
       "}\n",
       "\n",
       ".xr-var-data > table {\n",
       "  float: right;\n",
       "}\n",
       "\n",
       ".xr-var-name span,\n",
       ".xr-var-data,\n",
       ".xr-index-name div,\n",
       ".xr-index-data,\n",
       ".xr-attrs {\n",
       "  padding-left: 25px !important;\n",
       "}\n",
       "\n",
       ".xr-attrs,\n",
       ".xr-var-attrs,\n",
       ".xr-var-data,\n",
       ".xr-index-data {\n",
       "  grid-column: 1 / -1;\n",
       "}\n",
       "\n",
       "dl.xr-attrs {\n",
       "  padding: 0;\n",
       "  margin: 0;\n",
       "  display: grid;\n",
       "  grid-template-columns: 125px auto;\n",
       "}\n",
       "\n",
       ".xr-attrs dt,\n",
       ".xr-attrs dd {\n",
       "  padding: 0;\n",
       "  margin: 0;\n",
       "  float: left;\n",
       "  padding-right: 10px;\n",
       "  width: auto;\n",
       "}\n",
       "\n",
       ".xr-attrs dt {\n",
       "  font-weight: normal;\n",
       "  grid-column: 1;\n",
       "}\n",
       "\n",
       ".xr-attrs dt:hover span {\n",
       "  display: inline-block;\n",
       "  background: var(--xr-background-color);\n",
       "  padding-right: 10px;\n",
       "}\n",
       "\n",
       ".xr-attrs dd {\n",
       "  grid-column: 2;\n",
       "  white-space: pre-wrap;\n",
       "  word-break: break-all;\n",
       "}\n",
       "\n",
       ".xr-icon-database,\n",
       ".xr-icon-file-text2,\n",
       ".xr-no-icon {\n",
       "  display: inline-block;\n",
       "  vertical-align: middle;\n",
       "  width: 1em;\n",
       "  height: 1.5em !important;\n",
       "  stroke-width: 0;\n",
       "  stroke: currentColor;\n",
       "  fill: currentColor;\n",
       "}\n",
       "</style><pre class='xr-text-repr-fallback'>&lt;xarray.DataArray &#x27;aerosol_optical_depth&#x27; (ground_pixel: 52633)&gt; Size: 421kB\n",
       "array([ 1.30304000e-01,  1.34151000e-01, -9.99999999e+02, ...,\n",
       "       -9.99999999e+02, -9.99999999e+02, -9.99999999e+02])\n",
       "Coordinates:\n",
       "    latitude   (ground_pixel) float64 421kB 39.68 39.69 39.7 ... 39.98 39.99\n",
       "    longitude  (ground_pixel) float64 421kB -4.781 -4.838 ... -45.52 -45.47\n",
       "Dimensions without coordinates: ground_pixel\n",
       "Attributes:\n",
       "    long_name:  AOD_aerosol_optical_depth_at_550nm\n",
       "    units:      1</pre><div class='xr-wrap' style='display:none'><div class='xr-header'><div class='xr-obj-type'>xarray.DataArray</div><div class='xr-array-name'>'aerosol_optical_depth'</div><ul class='xr-dim-list'><li><span>ground_pixel</span>: 52633</li></ul></div><ul class='xr-sections'><li class='xr-section-item'><div class='xr-array-wrap'><input id='section-8b326337-d0d7-49aa-9630-01264d778edd' class='xr-array-in' type='checkbox' checked><label for='section-8b326337-d0d7-49aa-9630-01264d778edd' title='Show/hide data repr'><svg class='icon xr-icon-database'><use xlink:href='#icon-database'></use></svg></label><div class='xr-array-preview xr-preview'><span>0.1303 0.1342 -1e+03 0.1407 -1e+03 ... -1e+03 -1e+03 -1e+03 -1e+03</span></div><div class='xr-array-data'><pre>array([ 1.30304000e-01,  1.34151000e-01, -9.99999999e+02, ...,\n",
       "       -9.99999999e+02, -9.99999999e+02, -9.99999999e+02])</pre></div></div></li><li class='xr-section-item'><input id='section-94a089c6-626b-4fc3-8eed-829b37bb14f4' class='xr-section-summary-in' type='checkbox'  checked><label for='section-94a089c6-626b-4fc3-8eed-829b37bb14f4' class='xr-section-summary' >Coordinates: <span>(2)</span></label><div class='xr-section-inline-details'></div><div class='xr-section-details'><ul class='xr-var-list'><li class='xr-var-item'><div class='xr-var-name'><span>latitude</span></div><div class='xr-var-dims'>(ground_pixel)</div><div class='xr-var-dtype'>float64</div><div class='xr-var-preview xr-preview'>39.68 39.69 39.7 ... 39.98 39.99</div><input id='attrs-ac10beff-5b04-4d20-bae7-4dd231c1cfa7' class='xr-var-attrs-in' type='checkbox' disabled><label for='attrs-ac10beff-5b04-4d20-bae7-4dd231c1cfa7' title='Show/Hide attributes'><svg class='icon xr-icon-file-text2'><use xlink:href='#icon-file-text2'></use></svg></label><input id='data-22949ce5-44e4-4656-a1d1-0995185945a5' class='xr-var-data-in' type='checkbox'><label for='data-22949ce5-44e4-4656-a1d1-0995185945a5' title='Show/Hide data repr'><svg class='icon xr-icon-database'><use xlink:href='#icon-database'></use></svg></label><div class='xr-var-attrs'><dl class='xr-attrs'></dl></div><div class='xr-var-data'><pre>array([39.680728, 39.693275, 39.703873, ..., 39.965261, 39.979822,\n",
       "       39.994284])</pre></div></li><li class='xr-var-item'><div class='xr-var-name'><span>longitude</span></div><div class='xr-var-dims'>(ground_pixel)</div><div class='xr-var-dtype'>float64</div><div class='xr-var-preview xr-preview'>-4.781 -4.838 ... -45.52 -45.47</div><input id='attrs-57333cd2-2b4e-40e3-9a56-94f58f1c6d96' class='xr-var-attrs-in' type='checkbox' disabled><label for='attrs-57333cd2-2b4e-40e3-9a56-94f58f1c6d96' title='Show/Hide attributes'><svg class='icon xr-icon-file-text2'><use xlink:href='#icon-file-text2'></use></svg></label><input id='data-21887dc0-5861-4faf-93d4-8d12ff6bd1eb' class='xr-var-data-in' type='checkbox'><label for='data-21887dc0-5861-4faf-93d4-8d12ff6bd1eb' title='Show/Hide data repr'><svg class='icon xr-icon-database'><use xlink:href='#icon-database'></use></svg></label><div class='xr-var-attrs'><dl class='xr-attrs'></dl></div><div class='xr-var-data'><pre>array([ -4.781058,  -4.838085,  -4.8864  , ..., -45.57457 , -45.520099,\n",
       "       -45.465917])</pre></div></li></ul></div></li><li class='xr-section-item'><input id='section-e04781cf-7b60-40f2-94ce-23eab26633a4' class='xr-section-summary-in' type='checkbox' disabled ><label for='section-e04781cf-7b60-40f2-94ce-23eab26633a4' class='xr-section-summary'  title='Expand/collapse section'>Indexes: <span>(0)</span></label><div class='xr-section-inline-details'></div><div class='xr-section-details'><ul class='xr-var-list'></ul></div></li><li class='xr-section-item'><input id='section-b3580e28-d4d2-409d-bcff-bdd20020cae0' class='xr-section-summary-in' type='checkbox'  checked><label for='section-b3580e28-d4d2-409d-bcff-bdd20020cae0' class='xr-section-summary' >Attributes: <span>(2)</span></label><div class='xr-section-inline-details'></div><div class='xr-section-details'><dl class='xr-attrs'><dt><span>long_name :</span></dt><dd>AOD_aerosol_optical_depth_at_550nm</dd><dt><span>units :</span></dt><dd>1</dd></dl></div></li></ul></div></div>"
      ],
      "text/plain": [
       "<xarray.DataArray 'aerosol_optical_depth' (ground_pixel: 52633)> Size: 421kB\n",
       "array([ 1.30304000e-01,  1.34151000e-01, -9.99999999e+02, ...,\n",
       "       -9.99999999e+02, -9.99999999e+02, -9.99999999e+02])\n",
       "Coordinates:\n",
       "    latitude   (ground_pixel) float64 421kB 39.68 39.69 39.7 ... 39.98 39.99\n",
       "    longitude  (ground_pixel) float64 421kB -4.781 -4.838 ... -45.52 -45.47\n",
       "Dimensions without coordinates: ground_pixel\n",
       "Attributes:\n",
       "    long_name:  AOD_aerosol_optical_depth_at_550nm\n",
       "    units:      1"
      ]
     },
     "execution_count": 36,
     "metadata": {},
     "output_type": "execute_result"
    }
   ],
   "source": [
    "aod_xr_subset = generate_geographical_subset(xarray=aod_xr,\n",
    "                                             latmin = latmin,\n",
    "                                            latmax = latmax,\n",
    "                                            lonmin = lonmin,\n",
    "                                            lonmax = lonmax,\n",
    "                                             reassign=False)\n",
    "\n",
    "aod_xr_subset"
   ]
  },
  {
   "cell_type": "markdown",
   "metadata": {},
   "source": [
    "<br>"
   ]
  },
  {
   "cell_type": "markdown",
   "metadata": {},
   "source": [
    "## <a id='visualize'></a> Visualize PMAp Aerosol Optical Depth Level 2 data"
   ]
  },
  {
   "cell_type": "markdown",
   "metadata": {},
   "source": [
    "The final step is to visualize the PMAp Aerosol Optical Depth Level 2 data. Since the final data object is a one-dimensional `xarray.DataArray`, you can take advantage of the function [visualize_scatter](../../functions.ipynb#visualize_scatter). The function creates a matplotlib scatter plot.\n",
    "\n",
    "The function takes the following arguments as input:\n",
    "* `xr_dataarray`: your xarray data object\n",
    "* `conversion factor`: conversion factor in case the data values are very small, otherwise it is 1\n",
    "* `projection`: cartopy projection\n",
    "* `vmin`: minimum number on visualisation legend\n",
    "* `vmax`: maximum number on visualisation legend\n",
    "* `point size`: size of the marker\n",
    "* `color scale`: color palette\n",
    "* `unit`: unit of the variable\n",
    "* `title`: long name of the variable\n",
    "* `set_global`: if yes, the resulting plot will have a global coverage\n"
   ]
  },
  {
   "cell_type": "code",
   "execution_count": 40,
   "metadata": {},
   "outputs": [
    {
     "data": {
      "image/png": "[encoded data removed]",
      "text/plain": [
       "<Figure size 2000x1000 with 2 Axes>"
      ]
     },
     "metadata": {},
     "output_type": "display_data"
    }
   ],
   "source": [
    "visualize_scatter(xr_dataarray=aod_xr_subset, \n",
    "                  conversion_factor=1, \n",
    "                  projection=ccrs.PlateCarree(),\n",
    "                  vmin=0,\n",
    "                  vmax=1, \n",
    "                  point_size=10,\n",
    "                  color_scale='afmhot_r', \n",
    "                  unit=aod.Units, \n",
    "                  title=aod.Long_name + ' ' )"
   ]
  },
  {
   "cell_type": "markdown",
   "metadata": {},
   "source": [
    "<hr>"
   ]
  },
  {
   "cell_type": "markdown",
   "metadata": {},
   "source": [
    "### Resources\n",
    "* This notebook was adapted from: https://dustbook.ltpy.adamplatform.eu/docs/pmap_aod.html"
   ]
  },
  {
   "cell_type": "markdown",
   "metadata": {},
   "source": [
    "<img src='../img/copernicus_logo.png' alt='Logo EU Copernicus' align='right' width='20%'><br><br><br><br>\n",
    "\n",
    "<p style=\"text-align:right;\">This project is licensed under <a href=\"../../LICENSE\">GNU General Public License v3.0 only</a> and is developed under a Copernicus contract."
   ]
  },
  {
   "cell_type": "markdown",
   "metadata": {},
   "source": [
    "<p style=\"text-align:right;\"> <a href='https://training.eumetsat.int'>EUMETSAT Training</a> | <a href='mailto:training@eumetsat.int'>Contact the training team</a></p>"
   ]
  }
 ],
 "metadata": {
  "kernelspec": {
   "display_name": "myenv",
   "language": "python",
   "name": "myenv"
  },
  "language_info": {
   "codemirror_mode": {
    "name": "ipython",
    "version": 3
   },
   "file_extension": ".py",
   "mimetype": "text/x-python",
   "name": "python",
   "nbconvert_exporter": "python",
   "pygments_lexer": "ipython3",
   "version": "3.12.2"
  }
 },
 "nbformat": 4,
 "nbformat_minor": 4
}
