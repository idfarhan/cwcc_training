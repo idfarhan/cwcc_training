{
 "cells": [
  {
   "cell_type": "markdown",
   "metadata": {},
   "source": [
    "<img src='../img/EU-Copernicus-EUM_3Logos.png' alt='EU Copernicus Eumetsat logo' align='right' width='60%'></img>\n",
    "\n",
    "<br>"
   ]
  },
  {
   "cell_type": "markdown",
   "metadata": {
    "Collapsed": "false",
    "tags": []
   },
   "source": [
    "# 01 - Practical exercise"
   ]
  },
  {
   "cell_type": "markdown",
   "metadata": {
    "tags": []
   },
   "source": [
    "### About"
   ]
  },
  {
   "cell_type": "markdown",
   "metadata": {},
   "source": [
    "> You are working for ENAIRE, the air navigation authority for Spain and western Africa. You know that the Canary Islands are prone to Saharan dust events and for this reason, ENAIRE monitors dust on a daily basis. You are the operations analyst for the week of 21-27 February 2020 and responsible for issuing alerts, and if necessary, to mandate required safety measures. \n",
    ">\n",
    "> On 21 February 2020, you are in-charge of analysing the dust forecast and to monitor potential dust events for the coming days. With your new knowledge on aerosol and dust data, you should be able to do this.\n"
   ]
  },
  {
   "cell_type": "markdown",
   "metadata": {},
   "source": [
    "### Tasks"
   ]
  },
  {
   "cell_type": "markdown",
   "metadata": {
    "tags": []
   },
   "source": [
    "#### 1. Brainstorm\n",
    "  * What dust forecasts do you know about?\n",
    "  * How do they differ from each other?\n",
    "  * What satellite data do you know about that can be used for dust nowcasting?\n",
    "  * Which variables can be used to monitor and forecast dust?\n",
    "  \n",
    "\n",
    "#### 2. Download and animate the MONARCH dust forecast\n",
    "  * Download the dust forecast from the MONARCH model for 21 February 2020 and animate the forecast\n",
    "  * **Hint** \n",
    "    * [WMO SDS-WAS dust forecast - Example notebook](../02_model_forecasts/23_SDS-WAS_MONARCH_dust_forecast.ipynb)\n",
    "    * [Data access](https://sds-was.aemet.es/forecast-products/dust-forecasts/files-download) (Username: `sdswas.namee.rc@gmail.com`, Password: `BarcelonaDustRC`)\n",
    "\n",
    "\n",
    "\n",
    "#### 3. Download the MSG SEVIRI Level 1.5 data and visualize the Dust RGB composite\n",
    "  * Based on the dust forecast for the next days - which day and hour would you choose for getting a near real-time monitoring of dust from the MSG SEVIRI instrument?\n",
    "  * **Hint**\n",
    "    * [MSG SEVIRI Level 1.5 - Example notebook](../01_observations/1_satellite/11_MSG_dust_product_L1_load_browse.ipynb)\n",
    "    * [Data access](https://data.eumetsat.int/data/map/EO:EUM:DAT:MSG:HRSEVIRI)\n",
    "\n",
    "\n",
    "\n",
    "#### 4. Interpret the results\n",
    "  * Describe the dust forecast event in comparison with the near real-time monitoring from the satellite.\n",
    "  * What decision as ENAIRE operations analyst do you take? Would you issue an alert? Would you implement some safety measures?"
   ]
  },
  {
   "cell_type": "markdown",
   "metadata": {
    "Collapsed": "false"
   },
   "source": [
    "### Module outline\n",
    "* [1 - Dust forecasts from the MONARCH model](#sdswas_forecast)\n",
    "* [2 - Meteosat Second Generation SEVIRI Level 1.5 dust RGB](#msg_seviri)"
   ]
  },
  {
   "cell_type": "markdown",
   "metadata": {},
   "source": [
    "<hr>"
   ]
  },
  {
   "cell_type": "markdown",
   "metadata": {
    "Collapsed": "false"
   },
   "source": [
    "##### Load required libraries"
   ]
  },
  {
   "cell_type": "code",
   "execution_count": null,
   "metadata": {},
   "outputs": [],
   "source": [
    "import sys\n",
    "!{sys.executable} -m pip install cartopy netCDF4 h5netcdf==1.3.0 satpy==0.51.0 pyhdf h5py python-geotiepoints imageio_ffmpeg "
   ]
  },
  {
   "cell_type": "code",
   "execution_count": 1,
   "metadata": {
    "Collapsed": "false"
   },
   "outputs": [],
   "source": [
    "import xarray as xr\n",
    "\n",
    "import os\n",
    "os.environ['PROJ_LIB'] = '/opt/conda/share/proj'\n",
    "\n",
    "from IPython.display import HTML\n",
    "\n",
    "import matplotlib.pyplot as pl\n",
    "import matplotlib.colors\n",
    "from matplotlib.cm import get_cmap\n",
    "from matplotlib import animation\n",
    "from matplotlib.axes import Axes\n",
    "\n",
    "import cartopy.crs as ccrs\n",
    "from cartopy.mpl.gridliner import LONGITUDE_FORMATTER, LATITUDE_FORMATTER\n",
    "import cartopy.feature as cfeature\n",
    "from cartopy.mpl.geoaxes import GeoAxes\n",
    "GeoAxes._pcolormesh_patched = Axes.pcolormesh\n",
    "\n",
    "from satpy.scene import Scene\n",
    "from satpy.composites import GenericCompositor\n",
    "from satpy.writers import to_image\n",
    "from satpy.resample import get_area_def\n",
    "from satpy import available_readers\n",
    "\n",
    "import pyresample\n",
    "\n",
    "import warnings\n",
    "warnings.simplefilter(action = \"ignore\", category = RuntimeWarning)"
   ]
  },
  {
   "cell_type": "markdown",
   "metadata": {},
   "source": [
    "##### Load helper functions"
   ]
  },
  {
   "cell_type": "code",
   "execution_count": 2,
   "metadata": {},
   "outputs": [],
   "source": [
    "if os.path.exists(\"functions.ipynb\"):\n",
    "    %run functions.ipynb\n",
    "elif os.path.exists(\"../functions.ipynb\"):\n",
    "    %run ../functions.ipynb\n",
    "else:\n",
    "    print(\"Helper functions notebook not found in any specified path. Downloading from Gitlab.\")    \n",
    "    !wget https://gitlab.eumetsat.int/eumetlab/atmosphere/atmosphere/-/raw/master/functions.ipynb\n",
    "    %run functions.ipynb"
   ]
  },
  {
   "cell_type": "code",
   "execution_count": null,
   "metadata": {},
   "outputs": [],
   "source": [
    "if os.path.exists(\"bucket_functions.ipynb\"):\n",
    "    %run bucket_functions.ipynb\n",
    "elif os.path.exists(\"../bucket_functions.ipynb\"):\n",
    "    %run ../bucket_functions.ipynb\n",
    "else:\n",
    "    print(\"Helper functions notebook not found in any specified path. Downloading from Gitlab.\")    \n",
    "    !wget https://gitlab.eumetsat.int/eumetlab/atmosphere/atmosphere/-/raw/master/90_workshops/202410_wmo_school/bucket_functions.ipynb\n",
    "    %run bucket_functions.ipynb"
   ]
  },
  {
   "cell_type": "markdown",
   "metadata": {
    "Collapsed": "false"
   },
   "source": [
    "<hr>"
   ]
  },
  {
   "cell_type": "markdown",
   "metadata": {
    "tags": []
   },
   "source": [
    "## <a id='sdswas_forecast'>1. Dust forecasts from the MONARCH model"
   ]
  },
  {
   "cell_type": "code",
   "execution_count": null,
   "metadata": {},
   "outputs": [],
   "source": []
  },
  {
   "cell_type": "markdown",
   "metadata": {},
   "source": [
    "<hr>"
   ]
  },
  {
   "cell_type": "markdown",
   "metadata": {},
   "source": [
    "## <a id='msg_seviri'></a>2. Meteosat Second Generation SEVIRI Level 1.5 dust RGB"
   ]
  },
  {
   "cell_type": "code",
   "execution_count": null,
   "metadata": {},
   "outputs": [],
   "source": []
  },
  {
   "cell_type": "markdown",
   "metadata": {},
   "source": [
    "<br>"
   ]
  },
  {
   "cell_type": "markdown",
   "metadata": {},
   "source": [
    "<hr>"
   ]
  },
  {
   "cell_type": "markdown",
   "metadata": {},
   "source": [
    "<img src='../img/copernicus_logo.png' alt='Logo EU Copernicus' align='right' width='20%'><br><br><br><br>\n",
    "<p style=\"text-align:right;\">This project is licensed under <a href=\"../LICENSE\">GNU General Public License v3.0 only</a> and is developed under a Copernicus contract."
   ]
  },
  {
   "cell_type": "markdown",
   "metadata": {},
   "source": [
    "<p style=\"text-align:right;\"> <a href='https://training.eumetsat.int'>EUMETSAT Training</a> | <a href='mailto:training@eumetsat.int'>Contact the training team</a></p>"
   ]
  }
 ],
 "metadata": {
  "kernelspec": {
   "display_name": "Python 3 (ipykernel)",
   "language": "python",
   "name": "python3"
  },
  "language_info": {
   "codemirror_mode": {
    "name": "ipython",
    "version": 3
   },
   "file_extension": ".py",
   "mimetype": "text/x-python",
   "name": "python",
   "nbconvert_exporter": "python",
   "pygments_lexer": "ipython3",
   "version": "3.11.6"
  }
 },
 "nbformat": 4,
 "nbformat_minor": 4
}
