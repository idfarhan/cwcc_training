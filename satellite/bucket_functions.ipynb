{
 "cells": [
  {
   "cell_type": "markdown",
   "id": "ecc305da-fb03-4639-9b63-dcfdda801563",
   "metadata": {},
   "source": [
    "# Download from Swift Bucket functions"
   ]
  },
  {
   "cell_type": "markdown",
   "id": "4019cd69-35bb-4f18-a051-b9de1a28251b",
   "metadata": {},
   "source": [
    "This notebook lists all `functions` that are used to retrieve files from a Swift Bucket\n",
    "\n",
    "* [list_data_on_bucket](#list_data_on_bucket)\n",
    "* [open_data_from_bucket](#open_data_from_bucket)\n",
    "* [download_data_from_bucket](#download_data_from_bucket)"
   ]
  },
  {
   "cell_type": "code",
   "execution_count": 25,
   "id": "afbe4d87-5667-4af9-98e7-9f17fc8e56be",
   "metadata": {},
   "outputs": [],
   "source": [
    "import requests\n",
    "import io\n",
    "import os\n",
    "\n",
    "import numpy as np\n",
    "import xarray as xr\n",
    "\n",
    "from pprint import pprint\n",
    "\n",
    "import tempfile"
   ]
  },
  {
   "cell_type": "markdown",
   "id": "0acde77e-4a07-4222-ac36-daa1978da3bd",
   "metadata": {},
   "source": [
    "### <a id='list_data_on_bucket'></a>`list_data_on_bucket`"
   ]
  },
  {
   "cell_type": "code",
   "execution_count": 1,
   "id": "21817e4f-654b-4ba2-ab6f-592ea75ad1d8",
   "metadata": {},
   "outputs": [],
   "source": [
    "def list_data_on_bucket(base_url):\n",
    "    \"\"\"\n",
    "    Sends a GET request to the specified base URL to retrieve a list of file and directory paths.\n",
    "    It processes the paths to extract and print unique directory names if they contain 4 or fewer slashes ('/').\n",
    "    The function returns the complete list of paths retrieved from the response.\n",
    "\n",
    "    Parameters:\n",
    "    base_url (str): The base URL of the bucket or endpoint from which the data is retrieved.\n",
    "\n",
    "    Returns:\n",
    "    list of str: A list containing all paths (as strings) obtained from the response.\n",
    "    \"\"\"\n",
    "    \n",
    "    # Send a GET request to the base URL\n",
    "    response = requests.get(base_url)\n",
    "    if response.status_code == requests.codes.ok:\n",
    "        print('Status ok\\n')\n",
    "    else:\n",
    "        response.raise_for_status()\n",
    "    \n",
    "    all_paths_list = response.text.split('\\n')\n",
    "    \n",
    "    # If a single path contains less or equal than 4 '/', return a directory name\n",
    "    all_directories_list = [os.path.dirname(path) for path in all_paths_list if path.count('/') <= 4]\n",
    "\n",
    "    return all_paths_list"
   ]
  },
  {
   "cell_type": "markdown",
   "id": "87bea050-2cf8-4d31-9c8f-90227cabc62b",
   "metadata": {},
   "source": [
    "### <a id='open_data_from_bucket'></a>`open_data_from_bucket`"
   ]
  },
  {
   "cell_type": "code",
   "execution_count": 3,
   "id": "45553689-a1ef-420e-a3f3-4a227f235174",
   "metadata": {},
   "outputs": [],
   "source": [
    "def open_data_from_bucket(data_path, group=None):\n",
    "    \"\"\"\n",
    "    Fetches and opens a NetCDF file from a specified data path (typically from a cloud bucket), and returns it as an xarray dataset.\n",
    "\n",
    "    The `data_path` must be a full URL combining the base URL, the path to the folder, and the file name. The function retrieves the file over HTTP, saves it temporarily, and opens it using the netCDF4 engine.\n",
    "\n",
    "    Parameters:\n",
    "    data_path (str): The full URL path to the NetCDF file to be opened.\n",
    "                     Example format: base_url + path_to_folder + filename\n",
    "                     Example:\n",
    "                     https://s3.waw3-2.cloudferro.com/swift/v1/act6/data/s3/frp/\n",
    "                     S3A_SL_2_FRP____20230821T080123_20230821T080423_20240821T020918_0180_102_249______MAR_D_NR_003.SEN3/\n",
    "                     FRP_Merged_MWIR1kmStandard_SWIR1km.nc\n",
    "\n",
    "    Returns:\n",
    "    ds (xarray.Dataset): The opened NetCDF dataset.\n",
    "    \n",
    "    Example Usage:\n",
    "    - base_url = \"https://s3.waw3-2.cloudferro.com/swift/v1/act6/\"\n",
    "    - path_to_folder = \"data/s3/frp/S3A_SL_2_FRP____20230821T080123_20230821T080423_20240821T020918_0180_102_249______MAR_D_NR_003.SEN3/\"\n",
    "    - filename = \"FRP_Merged_MWIR1kmStandard_SWIR1km.nc\"\n",
    "    - data_path = base_url + path_to_folder + filename\n",
    "    \n",
    "    Raises:\n",
    "    - HTTPError: If the file cannot be fetched successfully (non-200 HTTP response).\n",
    "    \n",
    "    \"\"\"\n",
    "    response = requests.get(data_path, stream=True)\n",
    "    if response.status_code == 200:\n",
    "        # Convert the streamed content into a file-like object\n",
    "        file_obj = io.BytesIO(response.content)\n",
    "        # Write to a temporary file and open it using the netcdf4 engine\n",
    "        with tempfile.NamedTemporaryFile(delete=False, suffix='.nc') as tmp_file:\n",
    "            tmp_file.write(file_obj.getbuffer())\n",
    "            tmp_file.flush()\n",
    "            \n",
    "        ds = xr.open_dataset(tmp_file.name, engine='netcdf4', group=group)\n",
    "    \n",
    "        os.remove(tmp_file.name)\n",
    "        print(f\"File opened: {data_path}\")\n",
    "        return ds\n",
    "    else:\n",
    "        print(f\"Failed to fetch file: {response.status_code}\")"
   ]
  },
  {
   "cell_type": "markdown",
   "id": "6372e1f2-6f28-431e-9018-c8d51104f028",
   "metadata": {},
   "source": [
    "### <a id='open_data_from_bucket'></a>`download_data_from_bucket`"
   ]
  },
  {
   "cell_type": "code",
   "execution_count": null,
   "id": "9070c63f-1a12-4930-8419-d384325c2957",
   "metadata": {},
   "outputs": [],
   "source": [
    "def download_data_from_bucket(base_url, data_paths, download_path):\n",
    "    \"\"\"\n",
    "    Downloads files from a base URL using a list of data paths and saves them locally.\n",
    "    Skips downloading if the file already exists.\n",
    "\n",
    "    Args:\n",
    "        base_url (str): The base URL where the files are stored.\n",
    "        data_paths (list): A list of file paths (relative to the base URL) to download.\n",
    "        download_path (str): The local directory where the files should be saved.\n",
    "\n",
    "    Returns:\n",
    "        list: A list of file names that were successfully downloaded or already exist.\n",
    "    \"\"\"\n",
    "    if not os.path.exists(download_path):\n",
    "        os.mkdir(download_path)\n",
    "        \n",
    "    file_names = list()\n",
    "    for path in data_paths:\n",
    "        file_name = os.path.join(download_path, path.split(\"/\")[-1])\n",
    "        \n",
    "        # Check if file already exists\n",
    "        if os.path.exists(file_name):\n",
    "            print(f\"File already exists: {file_name}\")\n",
    "            file_names.append(file_name)\n",
    "            continue\n",
    "        \n",
    "        data_url = base_url + path\n",
    "        response = requests.get(data_url, stream=True)\n",
    "    \n",
    "        if response.status_code == 200:\n",
    "            # Open the file in write mode and save the streamed content\n",
    "            with open(file_name, 'wb') as f:\n",
    "                for chunk in response.iter_content(chunk_size=8192):\n",
    "                    if chunk:  # Filter out keep-alive new chunks\n",
    "                        f.write(chunk)\n",
    "    \n",
    "            print(f\"Downloaded file: {file_name}\")\n",
    "            file_names.append(file_name)\n",
    "\n",
    "        else:\n",
    "            print(f\"Failed to download file: {response.status_code}\")\n",
    "    \n",
    "    return file_names"
   ]
  }
 ],
 "metadata": {
  "kernelspec": {
   "display_name": "myenv",
   "language": "python",
   "name": "myenv"
  },
  "language_info": {
   "codemirror_mode": {
    "name": "ipython",
    "version": 3
   },
   "file_extension": ".py",
   "mimetype": "text/x-python",
   "name": "python",
   "nbconvert_exporter": "python",
   "pygments_lexer": "ipython3",
   "version": "3.12.2"
  }
 },
 "nbformat": 4,
 "nbformat_minor": 5
}
